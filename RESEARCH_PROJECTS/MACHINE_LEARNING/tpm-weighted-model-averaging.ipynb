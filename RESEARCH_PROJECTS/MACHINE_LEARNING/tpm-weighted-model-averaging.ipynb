{
 "cells": [
  {
   "cell_type": "code",
   "execution_count": 1,
   "id": "f466c235",
   "metadata": {
    "_cell_guid": "b1076dfc-b9ad-4769-8c92-a6c4dae69d19",
    "_uuid": "8f2839f25d086af736a60e9eeb907d3b93b6e0e5",
    "execution": {
     "iopub.execute_input": "2025-05-03T10:22:35.136756Z",
     "iopub.status.busy": "2025-05-03T10:22:35.136469Z",
     "iopub.status.idle": "2025-05-03T10:22:39.874543Z",
     "shell.execute_reply": "2025-05-03T10:22:39.873725Z"
    },
    "papermill": {
     "duration": 4.744672,
     "end_time": "2025-05-03T10:22:39.876262",
     "exception": false,
     "start_time": "2025-05-03T10:22:35.131590",
     "status": "completed"
    },
    "tags": []
   },
   "outputs": [],
   "source": [
    "import pandas as pd\n",
    "import numpy as np\n",
    "from sklearn.model_selection import train_test_split, GridSearchCV, KFold, cross_val_score\n",
    "from sklearn.ensemble import RandomForestRegressor\n",
    "from sklearn.tree import DecisionTreeRegressor\n",
    "from xgboost import XGBRegressor\n",
    "from sklearn.svm import SVR\n",
    "from sklearn.metrics import r2_score, mean_squared_error, mean_absolute_percentage_error\n",
    "import joblib\n"
   ]
  },
  {
   "cell_type": "code",
   "execution_count": 2,
   "id": "250c8b83",
   "metadata": {
    "execution": {
     "iopub.execute_input": "2025-05-03T10:22:39.883826Z",
     "iopub.status.busy": "2025-05-03T10:22:39.883060Z",
     "iopub.status.idle": "2025-05-03T10:22:40.740939Z",
     "shell.execute_reply": "2025-05-03T10:22:40.739655Z"
    },
    "papermill": {
     "duration": 0.86311,
     "end_time": "2025-05-03T10:22:40.742591",
     "exception": false,
     "start_time": "2025-05-03T10:22:39.879481",
     "status": "completed"
    },
    "tags": []
   },
   "outputs": [
    {
     "name": "stdout",
     "output_type": "stream",
     "text": [
      "   price_in_rp  district            city  bedrooms  bathrooms  land_size_m2  \\\n",
      "0   6800000000  Jelambar   Jakarta Barat         4          3           260   \n",
      "1   1650000000  Jelambar   Jakarta Barat         3          3            60   \n",
      "2   2400000000  Jelambar   Jakarta Barat         5          4            89   \n",
      "3   3550000000  Jelambar   Jakarta Barat         4          2           112   \n",
      "4   2400000000  Jelambar   Jakarta Barat         5          2            84   \n",
      "\n",
      "   building_size_m2  carports  electricity  maid_bedrooms  maid_bathrooms  \\\n",
      "0               387         0     5500 mah              1               1   \n",
      "1               132         0     2200 mah              0               0   \n",
      "2               227         0  lainnya mah              0               0   \n",
      "3               160         0  lainnya mah              0               0   \n",
      "4               144         0  lainnya mah              0               0   \n",
      "\n",
      "   floors property_condition  garages  \n",
      "0       2              bagus        0  \n",
      "1       3              bagus        0  \n",
      "2       3              bagus        0  \n",
      "3       2              bagus        0  \n",
      "4       3              bagus        0  \n"
     ]
    }
   ],
   "source": [
    "# Ganti path di bawah sesuai nama folder unggahan kamu\n",
    "file_path = \"/kaggle/input/datarumah-jakarta/data_rumah_jakarta.xlsx\"\n",
    "data = pd.read_excel(file_path)\n",
    "\n",
    "# Cek isi data\n",
    "print(data.head())"
   ]
  },
  {
   "cell_type": "code",
   "execution_count": 3,
   "id": "b4f1a5d7",
   "metadata": {
    "execution": {
     "iopub.execute_input": "2025-05-03T10:22:40.750196Z",
     "iopub.status.busy": "2025-05-03T10:22:40.749372Z",
     "iopub.status.idle": "2025-05-03T10:22:40.772886Z",
     "shell.execute_reply": "2025-05-03T10:22:40.771936Z"
    },
    "papermill": {
     "duration": 0.028984,
     "end_time": "2025-05-03T10:22:40.774519",
     "exception": false,
     "start_time": "2025-05-03T10:22:40.745535",
     "status": "completed"
    },
    "tags": []
   },
   "outputs": [],
   "source": [
    "# Pastikan kolom target ('price_in_rp') dan kolom kategorikal disebutkan\n",
    "categorical_features = ['district', 'city', 'property_condition', 'electricity']\n",
    "\n",
    "# Konversi kolom kategorikal menjadi tipe kategori\n",
    "for col in categorical_features:\n",
    "    data[col] = data[col].astype('category')\n",
    "\n",
    "# One-hot encoding pada fitur kategorikal\n",
    "data_encoded = pd.get_dummies(data, columns=categorical_features, drop_first=True)"
   ]
  },
  {
   "cell_type": "code",
   "execution_count": 4,
   "id": "c8c22557",
   "metadata": {
    "execution": {
     "iopub.execute_input": "2025-05-03T10:22:40.781250Z",
     "iopub.status.busy": "2025-05-03T10:22:40.780948Z",
     "iopub.status.idle": "2025-05-03T10:22:40.795200Z",
     "shell.execute_reply": "2025-05-03T10:22:40.794197Z"
    },
    "papermill": {
     "duration": 0.019459,
     "end_time": "2025-05-03T10:22:40.796867",
     "exception": false,
     "start_time": "2025-05-03T10:22:40.777408",
     "status": "completed"
    },
    "tags": []
   },
   "outputs": [],
   "source": [
    "# Misal target variabel adalah 'harga'\n",
    "X = data_encoded.drop(columns='price_in_rp')\n",
    "y = data_encoded['price_in_rp']\n",
    "\n",
    "# Split data 70% train dan 30% test\n",
    "X_train, X_test, y_train, y_test = train_test_split(\n",
    "    X, y, test_size=0.1, random_state=42\n",
    ")"
   ]
  },
  {
   "cell_type": "code",
   "execution_count": 5,
   "id": "d1c16827",
   "metadata": {
    "execution": {
     "iopub.execute_input": "2025-05-03T10:22:40.803700Z",
     "iopub.status.busy": "2025-05-03T10:22:40.803393Z",
     "iopub.status.idle": "2025-05-03T10:22:41.024471Z",
     "shell.execute_reply": "2025-05-03T10:22:41.023580Z"
    },
    "papermill": {
     "duration": 0.226316,
     "end_time": "2025-05-03T10:22:41.026075",
     "exception": false,
     "start_time": "2025-05-03T10:22:40.799759",
     "status": "completed"
    },
    "tags": []
   },
   "outputs": [
    {
     "data": {
      "text/plain": [
       "['model_decision_tree.pkl']"
      ]
     },
     "execution_count": 5,
     "metadata": {},
     "output_type": "execute_result"
    }
   ],
   "source": [
    "dt = DecisionTreeRegressor(random_state=42)\n",
    "params_dt = {'max_depth': [5, 10, 15, 20]}\n",
    "grid_dt = GridSearchCV(dt, params_dt, cv=5, scoring='r2')\n",
    "grid_dt.fit(X_train, y_train)\n",
    "best_dt = grid_dt.best_estimator_\n",
    "joblib.dump(best_dt, 'model_decision_tree.pkl')\n"
   ]
  },
  {
   "cell_type": "code",
   "execution_count": 6,
   "id": "0a94ecec",
   "metadata": {
    "execution": {
     "iopub.execute_input": "2025-05-03T10:22:41.033565Z",
     "iopub.status.busy": "2025-05-03T10:22:41.033231Z",
     "iopub.status.idle": "2025-05-03T10:23:01.070993Z",
     "shell.execute_reply": "2025-05-03T10:23:01.070077Z"
    },
    "papermill": {
     "duration": 20.043393,
     "end_time": "2025-05-03T10:23:01.072474",
     "exception": false,
     "start_time": "2025-05-03T10:22:41.029081",
     "status": "completed"
    },
    "tags": []
   },
   "outputs": [
    {
     "data": {
      "text/plain": [
       "['model_random_forest.pkl']"
      ]
     },
     "execution_count": 6,
     "metadata": {},
     "output_type": "execute_result"
    }
   ],
   "source": [
    "rf = RandomForestRegressor(random_state=42)\n",
    "params_rf = {'n_estimators': [100, 200], 'max_depth': [10, 15, 20]}\n",
    "grid_rf = GridSearchCV(rf, params_rf, cv=5, scoring='r2')\n",
    "grid_rf.fit(X_train, y_train)\n",
    "best_rf = grid_rf.best_estimator_\n",
    "joblib.dump(best_rf, 'model_random_forest.pkl')\n"
   ]
  },
  {
   "cell_type": "code",
   "execution_count": 7,
   "id": "c86564dc",
   "metadata": {
    "execution": {
     "iopub.execute_input": "2025-05-03T10:23:01.081158Z",
     "iopub.status.busy": "2025-05-03T10:23:01.080835Z",
     "iopub.status.idle": "2025-05-03T10:23:10.041900Z",
     "shell.execute_reply": "2025-05-03T10:23:10.040654Z"
    },
    "papermill": {
     "duration": 8.966244,
     "end_time": "2025-05-03T10:23:10.043468",
     "exception": false,
     "start_time": "2025-05-03T10:23:01.077224",
     "status": "completed"
    },
    "tags": []
   },
   "outputs": [
    {
     "data": {
      "text/plain": [
       "['model_xgboost.pkl']"
      ]
     },
     "execution_count": 7,
     "metadata": {},
     "output_type": "execute_result"
    }
   ],
   "source": [
    "xgb = XGBRegressor(random_state=42, objective='reg:squarederror')\n",
    "params_xgb = {'n_estimators': [100, 200], 'max_depth': [3, 6], 'learning_rate': [0.05, 0.1]}\n",
    "grid_xgb = GridSearchCV(xgb, params_xgb, cv=5, scoring='r2')\n",
    "grid_xgb.fit(X_train, y_train)\n",
    "best_xgb = grid_xgb.best_estimator_\n",
    "joblib.dump(best_xgb, 'model_xgboost.pkl')\n"
   ]
  },
  {
   "cell_type": "code",
   "execution_count": 8,
   "id": "300daa5e",
   "metadata": {
    "execution": {
     "iopub.execute_input": "2025-05-03T10:23:10.052503Z",
     "iopub.status.busy": "2025-05-03T10:23:10.051873Z",
     "iopub.status.idle": "2025-05-03T10:23:10.088370Z",
     "shell.execute_reply": "2025-05-03T10:23:10.086509Z"
    },
    "papermill": {
     "duration": 0.042703,
     "end_time": "2025-05-03T10:23:10.090005",
     "exception": false,
     "start_time": "2025-05-03T10:23:10.047302",
     "status": "completed"
    },
    "tags": []
   },
   "outputs": [
    {
     "name": "stdout",
     "output_type": "stream",
     "text": [
      "Bobot Optimal: [0.20267247 0.36978243 0.4275451 ]\n"
     ]
    }
   ],
   "source": [
    "pred_dt = best_dt.predict(X_test)\n",
    "pred_rf = best_rf.predict(X_test)\n",
    "pred_xgb = best_xgb.predict(X_test)\n",
    "\n",
    "# Hitung bobot optimal berdasarkan RMSE invers\n",
    "def get_weight(rmse_list):\n",
    "    inverse_rmse = 1 / np.array(rmse_list)\n",
    "    return inverse_rmse / inverse_rmse.sum()\n",
    "\n",
    "rmse_dt = np.sqrt(mean_squared_error(y_test, pred_dt))\n",
    "rmse_rf = np.sqrt(mean_squared_error(y_test, pred_rf))\n",
    "rmse_xgb = np.sqrt(mean_squared_error(y_test, pred_xgb))\n",
    "\n",
    "weights = get_weight([rmse_dt, rmse_rf, rmse_xgb])\n",
    "print(\"Bobot Optimal:\", weights)\n",
    "\n",
    "pred_ensemble = (weights[0]*pred_dt + weights[1]*pred_rf + weights[2]*pred_xgb)\n"
   ]
  },
  {
   "cell_type": "code",
   "execution_count": 9,
   "id": "836ab0f6",
   "metadata": {
    "execution": {
     "iopub.execute_input": "2025-05-03T10:23:10.099078Z",
     "iopub.status.busy": "2025-05-03T10:23:10.098775Z",
     "iopub.status.idle": "2025-05-03T10:23:28.069404Z",
     "shell.execute_reply": "2025-05-03T10:23:28.068685Z"
    },
    "papermill": {
     "duration": 17.97848,
     "end_time": "2025-05-03T10:23:28.072211",
     "exception": false,
     "start_time": "2025-05-03T10:23:10.093731",
     "status": "completed"
    },
    "tags": []
   },
   "outputs": [
    {
     "name": "stdout",
     "output_type": "stream",
     "text": [
      "Decision Tree -> R2: 0.3613, RMSE: 15379327821.8082, MSE: 236523724250644578304.0000, MAPE: 0.2841\n",
      "Random Forest -> R2: 0.6586, RMSE: 11300840209.3216, MSE: 127708989436619964416.0000, MAPE: 0.2345\n",
      "XGBoost -> R2: 0.7039, RMSE: 10101132714.1351, MSE: 102032882108571041792.0000, MAPE: 0.3005\n",
      "Weighted Model Averaging (Inverse Method) -> R2: 0.8301, RMSE: 6798269306.8421, MSE: 46216465568350945280.0000, MAPE: 0.2316\n"
     ]
    }
   ],
   "source": [
    "def evaluate_model(model, X, y):\n",
    "    kf = KFold(n_splits=5, shuffle=True, random_state=42)\n",
    "    r2 = cross_val_score(model, X, y, cv=kf, scoring='r2').mean()\n",
    "    mse = -cross_val_score(model, X, y, cv=kf, scoring='neg_mean_squared_error').mean()\n",
    "    rmse = np.sqrt(mse)\n",
    "    mape = cross_val_score(model, X, y, cv=kf, scoring='neg_mean_absolute_percentage_error').mean() * -1\n",
    "    return r2, rmse, mse, mape\n",
    "\n",
    "models = {\n",
    "    'Decision Tree': best_dt,\n",
    "    'Random Forest': best_rf,\n",
    "    'XGBoost': best_xgb\n",
    "}\n",
    "\n",
    "for name, model in models.items():\n",
    "    r2, rmse, mse, mape = evaluate_model(model, X, y)\n",
    "    print(f\"{name} -> R2: {r2:.4f}, RMSE: {rmse:.4f}, MSE: {mse:.4f}, MAPE: {mape:.4f}\")\n",
    "\n",
    "# Evaluasi model ensemble manual\n",
    "def evaluate_ensemble(preds, y_true):\n",
    "    r2 = r2_score(y_true, preds)\n",
    "    rmse = np.sqrt(mean_squared_error(y_true, preds))\n",
    "    mse = mean_squared_error(y_true, preds)\n",
    "    mape = mean_absolute_percentage_error(y_true, preds)\n",
    "    return r2, rmse, mse, mape\n",
    "\n",
    "r2_e, rmse_e, mse_e, mape_e = evaluate_ensemble(pred_ensemble, y_test)\n",
    "print(f\"Weighted Model Averaging (Inverse Method) -> R2: {r2_e:.4f}, RMSE: {rmse_e:.4f}, MSE: {mse_e:.4f}, MAPE: {mape_e:.4f}\")\n"
   ]
  },
  {
   "cell_type": "code",
   "execution_count": 10,
   "id": "beeb112a",
   "metadata": {
    "execution": {
     "iopub.execute_input": "2025-05-03T10:23:28.082135Z",
     "iopub.status.busy": "2025-05-03T10:23:28.081777Z",
     "iopub.status.idle": "2025-05-03T10:23:28.184273Z",
     "shell.execute_reply": "2025-05-03T10:23:28.183216Z"
    },
    "papermill": {
     "duration": 0.10899,
     "end_time": "2025-05-03T10:23:28.185847",
     "exception": false,
     "start_time": "2025-05-03T10:23:28.076857",
     "status": "completed"
    },
    "tags": []
   },
   "outputs": [
    {
     "name": "stdout",
     "output_type": "stream",
     "text": [
      "Bobot optimal (grid search): [0.0, 0.1, 0.9]\n",
      "RMSE Ensemble (grid): 5842180959.981659\n",
      "Weighted Model Averaging (Grid Search) -> R2: 0.8745, RMSE: 5842180959.9817, MSE: 34131078369172213760.0000, MAPE: 0.2447\n"
     ]
    }
   ],
   "source": [
    "from itertools import product\n",
    "\n",
    "# Prediksi masing-masing model\n",
    "pred_dt = best_dt.predict(X_test)\n",
    "pred_rf = best_rf.predict(X_test)\n",
    "pred_xgb = best_xgb.predict(X_test)\n",
    "all_preds = np.vstack([pred_dt, pred_rf, pred_xgb])\n",
    "\n",
    "# Buat grid bobot (misalnya interval 0.05)\n",
    "grid_range = np.arange(0, 1.05, 0.05)\n",
    "best_rmse = float('inf')\n",
    "best_weights = None\n",
    "\n",
    "for w1, w2 in product(grid_range, repeat=2):\n",
    "    w3 = 1 - w1 - w2\n",
    "    if 0 <= w3 <= 1:\n",
    "        weights = [w1, w2, w3]\n",
    "        ensemble_pred = np.dot(weights, all_preds)\n",
    "        rmse = np.sqrt(mean_squared_error(y_test, ensemble_pred))\n",
    "        if rmse < best_rmse:\n",
    "            best_rmse = rmse\n",
    "            best_weights = weights\n",
    "\n",
    "print(\"Bobot optimal (grid search):\", best_weights)\n",
    "print(\"RMSE Ensemble (grid):\", best_rmse)\n",
    "\n",
    "# Final prediction\n",
    "pred_ensemble_grid = np.dot(best_weights, all_preds)\n",
    "\n",
    "# Evaluasi akhir\n",
    "r2_e, rmse_e, mse_e, mape_e = evaluate_ensemble(pred_ensemble_grid, y_test)\n",
    "print(f\"Weighted Model Averaging (Grid Search) -> R2: {r2_e:.4f}, RMSE: {rmse_e:.4f}, MSE: {mse_e:.4f}, MAPE: {mape_e:.4f}\")\n"
   ]
  },
  {
   "cell_type": "code",
   "execution_count": 11,
   "id": "72133bcb",
   "metadata": {
    "execution": {
     "iopub.execute_input": "2025-05-03T10:23:28.193207Z",
     "iopub.status.busy": "2025-05-03T10:23:28.192952Z",
     "iopub.status.idle": "2025-05-03T10:23:46.096141Z",
     "shell.execute_reply": "2025-05-03T10:23:46.094721Z"
    },
    "papermill": {
     "duration": 17.908771,
     "end_time": "2025-05-03T10:23:46.097797",
     "exception": false,
     "start_time": "2025-05-03T10:23:28.189026",
     "status": "completed"
    },
    "tags": []
   },
   "outputs": [
    {
     "name": "stdout",
     "output_type": "stream",
     "text": [
      "Decision Tree -> R2: 0.3613, RMSE: 15379327821.8082, MSE: 236523724250644578304.0000, MAPE: 0.2841\n",
      "Random Forest -> R2: 0.6586, RMSE: 11300840209.3216, MSE: 127708989436619964416.0000, MAPE: 0.2345\n",
      "XGBoost -> R2: 0.7039, RMSE: 10101132714.1351, MSE: 102032882108571041792.0000, MAPE: 0.3005\n",
      "Weighted Model Averaging (Grid Search) -> R2: 0.8745, RMSE: 5842180959.9817, MSE: 34131078369172213760.0000, MAPE: 0.2447\n"
     ]
    }
   ],
   "source": [
    "for name, model in models.items():\n",
    "    r2, rmse, mse, mape = evaluate_model(model, X, y)\n",
    "    print(f\"{name} -> R2: {r2:.4f}, RMSE: {rmse:.4f}, MSE: {mse:.4f}, MAPE: {mape:.4f}\")\n",
    "\n",
    "\n",
    "\n",
    "print(f\"Weighted Model Averaging (Grid Search) -> R2: {r2_e:.4f}, RMSE: {rmse_e:.4f}, MSE: {mse_e:.4f}, MAPE: {mape_e:.4f}\")\n",
    "\n"
   ]
  }
 ],
 "metadata": {
  "kaggle": {
   "accelerator": "none",
   "dataSources": [
    {
     "datasetId": 7316405,
     "sourceId": 11658764,
     "sourceType": "datasetVersion"
    }
   ],
   "dockerImageVersionId": 31012,
   "isGpuEnabled": false,
   "isInternetEnabled": false,
   "language": "python",
   "sourceType": "notebook"
  },
  "kernelspec": {
   "display_name": "Python 3",
   "language": "python",
   "name": "python3"
  },
  "language_info": {
   "codemirror_mode": {
    "name": "ipython",
    "version": 3
   },
   "file_extension": ".py",
   "mimetype": "text/x-python",
   "name": "python",
   "nbconvert_exporter": "python",
   "pygments_lexer": "ipython3",
   "version": "3.11.11"
  },
  "papermill": {
   "default_parameters": {},
   "duration": 76.986971,
   "end_time": "2025-05-03T10:23:46.822685",
   "environment_variables": {},
   "exception": null,
   "input_path": "__notebook__.ipynb",
   "output_path": "__notebook__.ipynb",
   "parameters": {},
   "start_time": "2025-05-03T10:22:29.835714",
   "version": "2.6.0"
  }
 },
 "nbformat": 4,
 "nbformat_minor": 5
}
